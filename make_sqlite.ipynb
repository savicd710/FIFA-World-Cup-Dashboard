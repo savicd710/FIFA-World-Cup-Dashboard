{
 "cells": [
  {
   "cell_type": "markdown",
   "id": "59494141-954d-489a-a858-9b3b198f2da0",
   "metadata": {},
   "source": [
    "### SQLite Database Creation\n",
    "This file takes the csv's from 'raw files' and puts them into an accessable sqlite database"
   ]
  },
  {
   "cell_type": "code",
   "execution_count": 1,
   "id": "e3f657e9-92a7-4be0-9ad7-a344e5ada81e",
   "metadata": {
    "tags": []
   },
   "outputs": [],
   "source": [
    "from sqlalchemy import create_engine\n",
    "from sqlalchemy.ext.declarative import declarative_base\n",
    "from sqlalchemy import text\n",
    "from sqlalchemy import Column, Integer, String, Float , Boolean\n",
    "import numpy as np\n",
    "import matplotlib.pyplot as plt\n",
    "import pandas as pd\n",
    "import scipy.stats as st\n"
   ]
  },
  {
   "cell_type": "code",
   "execution_count": 5,
   "id": "f50148f7-7412-4463-90de-6895d6fc56ff",
   "metadata": {},
   "outputs": [],
   "source": [
    "engine = create_engine(\"sqlite:///database/fifa_data.sqlite\")\n",
    "conn = engine.connect()\n"
   ]
  },
  {
   "cell_type": "code",
   "execution_count": 8,
   "id": "d877334a-6422-4256-a7b6-0901f778ae4c",
   "metadata": {},
   "outputs": [
    {
     "name": "stdout",
     "output_type": "stream",
     "text": [
      "Table already exists!\n"
     ]
    }
   ],
   "source": [
    "#insert squad data\n",
    "data = pd.read_csv('./raw_data/squad_data.csv')\n",
    "try:\n",
    "    data.to_sql('squad_data', engine)\n",
    "except(ValueError):\n",
    "    print('Table already exists!')"
   ]
  },
  {
   "cell_type": "code",
   "execution_count": null,
   "id": "da5693ae-57e3-4ee3-af86-14837a55ccea",
   "metadata": {},
   "outputs": [],
   "source": [
    "data2 = pd.read_csv('./raw_data/squad_data.csv')\n",
    "try:\n",
    "    data2.to_sql('main_data', engine)\n",
    "except(ValueError):\n",
    "    print('Table already exists!')"
   ]
  }
 ],
 "metadata": {
  "kernelspec": {
   "display_name": "Python 3 (ipykernel)",
   "language": "python",
   "name": "python3"
  },
  "language_info": {
   "codemirror_mode": {
    "name": "ipython",
    "version": 3
   },
   "file_extension": ".py",
   "mimetype": "text/x-python",
   "name": "python",
   "nbconvert_exporter": "python",
   "pygments_lexer": "ipython3",
   "version": "3.9.12"
  }
 },
 "nbformat": 4,
 "nbformat_minor": 5
}
